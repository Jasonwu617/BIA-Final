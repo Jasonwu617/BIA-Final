{
  "nbformat": 4,
  "nbformat_minor": 0,
  "metadata": {
    "colab": {
      "name": "Fitting.ipynb",
      "provenance": [],
      "collapsed_sections": []
    },
    "kernelspec": {
      "name": "python3",
      "display_name": "Python 3"
    },
    "language_info": {
      "name": "python"
    }
  },
  "cells": [
    {
      "cell_type": "code",
      "source": [
        "import numpy as np\n",
        "from sklearn.decomposition import PCA\n",
        "from google.colab import drive\n",
        "import os\n",
        "import torch"
      ],
      "metadata": {
        "id": "F90J21A_zrQq"
      },
      "execution_count": 5,
      "outputs": []
    },
    {
      "cell_type": "code",
      "source": [
        "drive.mount('/drive')"
      ],
      "metadata": {
        "colab": {
          "base_uri": "https://localhost:8080/"
        },
        "id": "2_CcV5DRz9CP",
        "outputId": "480e5d65-a150-42cd-d6fe-52ab19eb3c68"
      },
      "execution_count": 2,
      "outputs": [
        {
          "output_type": "stream",
          "name": "stdout",
          "text": [
            "Mounted at /drive\n"
          ]
        }
      ]
    },
    {
      "cell_type": "code",
      "source": [
        "def pca_fun(array):\n",
        "    pca = PCA(n_components=1)\n",
        "    pca.fit(array)\n",
        "    return(pca)"
      ],
      "metadata": {
        "id": "qVmWjNsoz584"
      },
      "execution_count": 3,
      "outputs": []
    },
    {
      "cell_type": "code",
      "execution_count": 14,
      "metadata": {
        "id": "yBkNrVvOxPhk"
      },
      "outputs": [],
      "source": [
        "path = '/drive/My Drive/BIA_MnistTrained/models_layers/model rdms'\n",
        "layers = ['conv1', 'conv1', 'fc1', 'fc2']\n",
        "model_rdms_reduced = []\n",
        "for i in range(20):\n",
        "    # for l in layers:\n",
        "    model_path = os.path.join(path, 'model_{0}_{1}rdm.pth'.format(i, 'fc2'))\n",
        "    rdm = torch.load(model_path)\n",
        "    pca = pca_fun(rdm)\n",
        "    transformed = pca.transform(rdm)\n",
        "    model_rdms_reduced.append(transformed.mean(axis=0)[0])"
      ]
    },
    {
      "cell_type": "code",
      "source": [
        "model_rdms_reduced"
      ],
      "metadata": {
        "colab": {
          "base_uri": "https://localhost:8080/"
        },
        "id": "tlA1CSTh3mp4",
        "outputId": "20558551-6892-4ba3-ef20-0a732ceefff6"
      },
      "execution_count": 15,
      "outputs": [
        {
          "output_type": "execute_result",
          "data": {
            "text/plain": [
              "[-2.7755575615628914e-17,\n",
              " 0.0,\n",
              " -1.554312234475219e-16,\n",
              " -9.992007221626409e-17,\n",
              " -6.661338147750939e-17,\n",
              " -1.1102230246251565e-16,\n",
              " 2.220446049250313e-16,\n",
              " -7.216449660063518e-17,\n",
              " 0.0,\n",
              " 6.106226635438361e-17,\n",
              " 5.551115123125783e-17,\n",
              " 1.9984014443252818e-16,\n",
              " 6.38378239159465e-17,\n",
              " -6.106226635438361e-17,\n",
              " -7.216449660063518e-17,\n",
              " -8.881784197001253e-17,\n",
              " -9.853229343548264e-17,\n",
              " -1.1102230246251565e-16,\n",
              " 1.7763568394002506e-16,\n",
              " 6.661338147750939e-17]"
            ]
          },
          "metadata": {},
          "execution_count": 15
        }
      ]
    },
    {
      "cell_type": "code",
      "source": [
        "import numpy as np\n",
        "from scipy.stats import norm\n",
        "import matplotlib.pyplot as plt\n",
        "\n",
        "mu, std = norm.fit(model_rdms_reduced)\n",
        "\n",
        "plt.hist(model_rdms_reduced, bins=10, density=True, alpha=0.6, color='g')\n",
        "\n",
        "xmin, xmax = plt.xlim()\n",
        "x = np.linspace(xmin, xmax, 100)\n",
        "p = norm.pdf(x, mu, std)\n",
        "plt.plot(x, p, 'k', linewidth=2)\n",
        "title = \"Fit results: mu = %.2f,  std = %.2f\" % (mu, std)\n",
        "plt.title(title)\n",
        "\n",
        "plt.show()"
      ],
      "metadata": {
        "colab": {
          "base_uri": "https://localhost:8080/",
          "height": 294
        },
        "id": "P79_Aunr2L1q",
        "outputId": "5ded3986-ace8-4fb1-9e19-b1a32bcb975c"
      },
      "execution_count": 16,
      "outputs": [
        {
          "output_type": "display_data",
          "data": {
            "text/plain": [
              "<Figure size 432x288 with 1 Axes>"
            ],
            "image/png": "[encoded data removed]"
          },
          "metadata": {
            "needs_background": "light"
          }
        }
      ]
    },
    {
      "cell_type": "code",
      "source": [
        "path = '/drive/My Drive/BIA_MnistTrained/fMRI_RDMs'\n",
        "fmri_rdms_reduced = []\n",
        "for i in range(10):\n",
        "    data_path = os.path.join(path, 'participant_{0}_rdm.pth'.format(i))\n",
        "    rdm = torch.load(data_path)\n",
        "    pca = pca_fun(rdm)\n",
        "    transformed = pca.transform(rdm)\n",
        "    fmri_rdms_reduced.append(transformed.mean(axis=0)[0])"
      ],
      "metadata": {
        "id": "2esEnrP92xiA"
      },
      "execution_count": 23,
      "outputs": []
    },
    {
      "cell_type": "code",
      "source": [
        "fmri_rdms_reduced"
      ],
      "metadata": {
        "colab": {
          "base_uri": "https://localhost:8080/"
        },
        "id": "RmzZBLcW4GuI",
        "outputId": "698058a5-0fa9-40dc-8a8b-67e9b474a66a"
      },
      "execution_count": 28,
      "outputs": [
        {
          "output_type": "execute_result",
          "data": {
            "text/plain": [
              "[1.3322676295501878e-16,\n",
              " 8.881784197001253e-17,\n",
              " 9.992007221626409e-17,\n",
              " 7.771561172376095e-17,\n",
              " 8.881784197001253e-17,\n",
              " 1.3322676295501878e-16,\n",
              " 0.0,\n",
              " 1.2212453270876723e-16,\n",
              " 1.3322676295501878e-16,\n",
              " 1.3322676295501878e-16]"
            ]
          },
          "metadata": {},
          "execution_count": 28
        }
      ]
    },
    {
      "cell_type": "code",
      "source": [
        "import numpy as np\n",
        "from scipy.stats import norm\n",
        "import matplotlib.pyplot as plt\n",
        "\n",
        "mu, std = norm.fit(fmri_rdms_reduced)\n",
        "\n",
        "plt.hist(fmri_rdms_reduced, bins=10, density=True, alpha=0.6, color='g')\n",
        "\n",
        "xmin, xmax = plt.xlim()\n",
        "x = np.linspace(xmin, xmax, 100)\n",
        "p = norm.pdf(x, mu, std)\n",
        "plt.plot(x, p, 'k', linewidth=2)\n",
        "title = \"Fit results: mu = %.2f,  std = %.2f\" % (mu, std)\n",
        "plt.title(title)\n",
        "\n",
        "plt.show()"
      ],
      "metadata": {
        "colab": {
          "base_uri": "https://localhost:8080/",
          "height": 294
        },
        "id": "uJgexyTB4ICX",
        "outputId": "cc2030be-ccdf-45e4-d6e4-a57359b9031d"
      },
      "execution_count": 30,
      "outputs": [
        {
          "output_type": "display_data",
          "data": {
            "text/plain": [
              "<Figure size 432x288 with 1 Axes>"
            ],
            "image/png": "[encoded data removed]"
          },
          "metadata": {
            "needs_background": "light"
          }
        }
      ]
    },
    {
      "cell_type": "code",
      "source": [
        "std"
      ],
      "metadata": {
        "colab": {
          "base_uri": "https://localhost:8080/"
        },
        "id": "WRUzFa2c4dai",
        "outputId": "f1aae7a5-c3eb-4d17-fe2d-e51c309079b5"
      },
      "execution_count": 26,
      "outputs": [
        {
          "output_type": "execute_result",
          "data": {
            "text/plain": [
              "3.954950396191509e-17"
            ]
          },
          "metadata": {},
          "execution_count": 26
        }
      ]
    },
    {
      "cell_type": "code",
      "source": [
        ""
      ],
      "metadata": {
        "id": "TrGb9fi_4igy"
      },
      "execution_count": null,
      "outputs": []
    }
  ]
}