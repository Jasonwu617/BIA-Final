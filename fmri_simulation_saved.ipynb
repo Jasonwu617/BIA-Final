{
  "nbformat": 4,
  "nbformat_minor": 0,
  "metadata": {
    "colab": {
      "name": "fmri_simulation_saved.ipynb",
      "provenance": []
    },
    "kernelspec": {
      "name": "python3",
      "display_name": "Python 3"
    },
    "language_info": {
      "name": "python"
    }
  },
  "cells": [
    {
      "cell_type": "code",
      "source": [
        "import os\n",
        "from google.colab import drive\n",
        "drive.mount('/content/gdrive')"
      ],
      "metadata": {
        "colab": {
          "base_uri": "https://localhost:8080/"
        },
        "id": "HXeF3tOA-1qT",
        "outputId": "842e747b-3f12-416b-da39-dd90099e82d0"
      },
      "execution_count": 12,
      "outputs": [
        {
          "output_type": "stream",
          "name": "stdout",
          "text": [
            "Mounted at /content/gdrive\n"
          ]
        }
      ]
    },
    {
      "cell_type": "code",
      "execution_count": 15,
      "metadata": {
        "colab": {
          "base_uri": "https://localhost:8080/"
        },
        "id": "Zla_Sjbj8eZk",
        "outputId": "7c756ebb-e1ec-4988-ef6c-84914f85b0a3"
      },
      "outputs": [
        {
          "output_type": "stream",
          "name": "stdout",
          "text": [
            "(10, 10, 100)\n"
          ]
        }
      ],
      "source": [
        "import numpy as np\n",
        "import torch\n",
        "import torchvision \n",
        "\n",
        "\n",
        "original = np.random.randint(0,100, size = (10,100))\n",
        "\n",
        "noise = np.random.normal(size=9)\n",
        "\n",
        "participants = np.zeros((10, 10, 100))\n",
        "participants[0] = original\n",
        "\n",
        "for i in range(len(noise)):\n",
        "    participants[i+1] = original + noise[i]\n",
        "\n",
        "print(participants.shape)\n",
        "#print(participants)\n",
        "participant_0 = torch.from_numpy(participants[0]).permute(1,0)\n",
        "participant_1 = torch.from_numpy(participants[1]).permute(1,0)\n",
        "participant_2 = torch.from_numpy(participants[2]).permute(1,0)\n",
        "participant_3 = torch.from_numpy(participants[3]).permute(1,0)\n",
        "participant_4 = torch.from_numpy(participants[4]).permute(1,0)\n",
        "participant_5 = torch.from_numpy(participants[5]).permute(1,0)\n",
        "participant_6 = torch.from_numpy(participants[6]).permute(1,0)\n",
        "participant_7 = torch.from_numpy(participants[7]).permute(1,0)\n",
        "participant_8 = torch.from_numpy(participants[8]).permute(1,0)\n",
        "participant_9 = torch.from_numpy(participants[9]).permute(1,0)\n",
        "\n",
        "torch.save(participant_0, '/content/gdrive/MyDrive/BIA/fmri_tensors/participant_0.pth')\n",
        "torch.save(participant_1, '/content/gdrive/MyDrive/BIA/fmri_tensors/participant_1.pth')\n",
        "torch.save(participant_2, '/content/gdrive/MyDrive/BIA/fmri_tensors/participant_2.pth')\n",
        "torch.save(participant_3, '/content/gdrive/MyDrive/BIA/fmri_tensors/participant_3.pth')\n",
        "torch.save(participant_4, '/content/gdrive/MyDrive/BIA/fmri_tensors/participant_4.pth')\n",
        "torch.save(participant_5, '/content/gdrive/MyDrive/BIA/fmri_tensors/participant_5.pth')\n",
        "torch.save(participant_6, '/content/gdrive/MyDrive/BIA/fmri_tensors/participant_6.pth')\n",
        "torch.save(participant_7, '/content/gdrive/MyDrive/BIA/fmri_tensors/participant_7.pth')\n",
        "torch.save(participant_8, '/content/gdrive/MyDrive/BIA/fmri_tensors/participant_8.pth')\n",
        "torch.save(participant_9, '/content/gdrive/MyDrive/BIA/fmri_tensors/participant_9.pth')\n",
        "\n",
        "\n"
      ]
    }
  ]
}