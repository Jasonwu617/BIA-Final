{
  "nbformat": 4,
  "nbformat_minor": 0,
  "metadata": {
    "colab": {
      "name": "fmri.ipynb",
      "provenance": []
    },
    "kernelspec": {
      "name": "python3",
      "display_name": "Python 3"
    },
    "language_info": {
      "name": "python"
    }
  },
  "cells": [
    {
      "cell_type": "code",
      "execution_count": 2,
      "metadata": {
        "colab": {
          "base_uri": "https://localhost:8080/"
        },
        "id": "cV3LI-3kIEN_",
        "outputId": "0abcdcae-71c3-4b95-c400-a21d40898b43"
      },
      "outputs": [
        {
          "output_type": "stream",
          "name": "stdout",
          "text": [
            "(10, 10, 100)\n"
          ]
        }
      ],
      "source": [
        "import numpy as np\n",
        "\n",
        "\n",
        "original = np.random.randint(0,100, size = (10,100))\n",
        "\n",
        "noise = np.random.normal(size=9)\n",
        "\n",
        "participants = np.zeros((10, 10, 100))\n",
        "participants[0] = original\n",
        "\n",
        "for i in range(len(noise)):\n",
        "    participants[i+1] = original + noise[i]\n",
        "\n",
        "print(participants.shape)\n",
        "\n",
        "\n",
        "    \n"
      ]
    }
  ]
}