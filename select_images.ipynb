{
  "nbformat": 4,
  "nbformat_minor": 0,
  "metadata": {
    "colab": {
      "name": "select_images.ipynb",
      "provenance": []
    },
    "kernelspec": {
      "name": "python3",
      "display_name": "Python 3"
    },
    "language_info": {
      "name": "python"
    }
  },
  "cells": [
    {
      "cell_type": "code",
      "execution_count": null,
      "metadata": {
        "id": "iSyZVIQSM5cG"
      },
      "outputs": [],
      "source": [
        "import torch\n",
        "import torchvision\n",
        "import numpy as np\n",
        "from google.colab import drive"
      ]
    },
    {
      "cell_type": "code",
      "source": [
        "batch_size = 1000"
      ],
      "metadata": {
        "id": "bqOONG5INUN1"
      },
      "execution_count": null,
      "outputs": []
    },
    {
      "cell_type": "code",
      "source": [
        "test_loader = torch.utils.data.DataLoader(\n",
        "  torchvision.datasets.MNIST('/files/', train=False, download=True,\n",
        "                             transform=torchvision.transforms.Compose([\n",
        "                               torchvision.transforms.ToTensor(),\n",
        "                               torchvision.transforms.Normalize(\n",
        "                                 (0.1307,), (0.3081,))\n",
        "                             ])),\n",
        "  batch_size=batch_size, shuffle=True)"
      ],
      "metadata": {
        "id": "Qf5AuF2qNhRS"
      },
      "execution_count": null,
      "outputs": []
    },
    {
      "cell_type": "code",
      "source": [
        "batch = enumerate(test_loader)\n",
        "target_indices = np.zeros((1, 10))\n",
        "target_images = np.zeros((10, 28, 28))\n",
        "target_completed = 0\n",
        "batch_idx, (sample_data, sample_targets) = next(batch)\n",
        "for i in range(batch_size):\n",
        "    if target_indices[0, sample_targets[i]] == 0:\n",
        "        target_images[sample_targets[i], :, :] = sample_data[i, 0, :, :]\n",
        "        target_indices[0, sample_targets[i]] = 1"
      ],
      "metadata": {
        "id": "JJ5xxGK-Nlzy"
      },
      "execution_count": null,
      "outputs": []
    },
    {
      "cell_type": "code",
      "source": [
        "import matplotlib.pyplot as plt\n",
        "\n",
        "fig = plt.figure()\n",
        "for i in range(10):\n",
        "  plt.subplot(3,4,i+1)\n",
        "  plt.tight_layout()\n",
        "  plt.imshow(target_images[i, :, :], cmap='gray', interpolation='none')\n",
        "  plt.title(\"Ground Truth: {}\".format(i))\n",
        "  plt.xticks([])\n",
        "  plt.yticks([])\n",
        "# fig"
      ],
      "metadata": {
        "colab": {
          "base_uri": "https://localhost:8080/",
          "height": 271
        },
        "id": "-GyQ7nkiR5Nk",
        "outputId": "4a8cc5c4-b8cd-4a40-be3e-2bd78859565c"
      },
      "execution_count": null,
      "outputs": [
        {
          "output_type": "display_data",
          "data": {
            "text/plain": [
              "<Figure size 432x288 with 10 Axes>"
            ],
            "image/png": "[encoded data removed]"
          },
          "metadata": {}
        }
      ]
    },
    {
      "cell_type": "code",
      "source": [
        "target_images.shape"
      ],
      "metadata": {
        "colab": {
          "base_uri": "https://localhost:8080/"
        },
        "id": "t6XuCjlWePe0",
        "outputId": "bb4626f8-8025-4c0f-b479-c0285520d730"
      },
      "execution_count": null,
      "outputs": [
        {
          "output_type": "execute_result",
          "data": {
            "text/plain": [
              "(10, 28, 28)"
            ]
          },
          "metadata": {},
          "execution_count": 26
        }
      ]
    },
    {
      "cell_type": "code",
      "source": [
        "drive.mount('/drive')\n",
        "torch.save(torch.from_numpy(target_images), '/drive/My Drive/BIA_MnistTrained/sample_images.pth')"
      ],
      "metadata": {
        "colab": {
          "base_uri": "https://localhost:8080/"
        },
        "id": "c9k9cLERRsz_",
        "outputId": "0aeca276-fd99-4a06-fa87-a7b73b091896"
      },
      "execution_count": null,
      "outputs": [
        {
          "output_type": "stream",
          "name": "stdout",
          "text": [
            "Mounted at /drive\n"
          ]
        }
      ]
    },
    {
      "cell_type": "code",
      "source": [
        ""
      ],
      "metadata": {
        "id": "24GZpbuLTSVm"
      },
      "execution_count": null,
      "outputs": []
    }
  ]
}